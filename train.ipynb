{
 "cells": [
  {
   "cell_type": "code",
   "execution_count": 3,
   "metadata": {
    "collapsed": false
   },
   "outputs": [
    {
     "name": "stdout",
     "output_type": "stream",
     "text": [
      "\n",
      "DAta =  C:/Users/vrnsr/Desktop/NLP_Proj\n",
      "Loading data..\n",
      "Training Examples: 6358\n",
      "Cross Validation Data: 2725\n",
      "Testing Data: 3893\n",
      "Data loaded.\n",
      "\n",
      "Processing data..\n",
      "X_train.shape: (6358, 500), y_train.shape: (6358,)\n",
      "X_cv.shape: (2725, 500), y_cv.shape: (2725,)\n",
      "Processing done.\n"
     ]
    }
   ],
   "source": [
    "from util import configure, load_data, process_data\n",
    "configure(use_cpu=True)\n",
    "\n",
    "from callbacks import QWKScore, SaveModel\n",
    "from constants import DATASET_DIR, TRAINED_MODELS_DIR\n",
    "from keras.callbacks import TensorBoard\n",
    "from models.lstm import get_model\n",
    "\n",
    "\n",
    "#DATASET_DIR = 'C:/Users/vrnsr/Desktop/NLP_Proj'\n",
    "#GLOVE_DIR = 'C:/Users/vrnsr/Downloads'\n",
    "print()\n",
    "print(\"DAta = \",DATASET_DIR)\n",
    "print('Loading data..')\n",
    "\n",
    "essay_length = 500\n",
    "essays_train, essays_cv, essays_test = load_data(DATASET_DIR, train_size=0.7, validation_size=0.3)\n",
    "print(\"Training Examples: {}\".format(len(essays_train)))\n",
    "print(\"Cross Validation Data: {}\".format(len(essays_cv)))\n",
    "print(\"Testing Data: {}\".format(len(essays_test)))\n",
    "print('Data loaded.')\n",
    "\n",
    "print()\n",
    "print('Processing data..')\n",
    "\n",
    "\n",
    "X_train, y_train = process_data(essays_train)\n",
    "print(\"X_train.shape: {}, y_train.shape: {}\".format(X_train.shape, y_train.shape))\n",
    "\n",
    "X_cv, y_cv = process_data(essays_cv)\n",
    "print(\"X_cv.shape: {}, y_cv.shape: {}\".format(X_cv.shape, y_cv.shape))\n",
    "\n",
    "print('Processing done.')"
   ]
  },
  {
   "cell_type": "code",
   "execution_count": 14,
   "metadata": {
    "collapsed": false
   },
   "outputs": [
    {
     "data": {
      "text/plain": [
       "\"print()\\nprint('Loading model..')\\nmodel = get_model(embedding_dimension=50, essay_length=essay_length)\\nprint(model.summary())\\nprint('Model loaded.')\\n\\nqwkscore = QWKScore(essays_cv)\\nsavemodel = SaveModel(TRAINED_MODELS_DIR, 'weights.{epoch:02d}-{val_loss:.4f}.hdf5', verbose=0)\\ntensorboard = TensorBoard(log_dir='./logs', histogram_freq=2, batch_size=32, write_grads=False)\\ncallbacks_list = [qwkscore, tensorboard, savemodel]\\n\\nprint()\\nprint('Training model..')\\nhistory = model.fit(X_train, y_train, batch_size=32, epochs=4, validation_data=(X_cv, y_cv), callbacks=callbacks_list)\\nprint('Model trained.')\""
      ]
     },
     "execution_count": 14,
     "metadata": {},
     "output_type": "execute_result"
    }
   ],
   "source": [
    "'''print()\n",
    "print('Loading model..')\n",
    "model = get_model(embedding_dimension=50, essay_length=essay_length)\n",
    "print(model.summary())\n",
    "print('Model loaded.')\n",
    "\n",
    "qwkscore = QWKScore(essays_cv)\n",
    "savemodel = SaveModel(TRAINED_MODELS_DIR, 'weights.{epoch:02d}-{val_loss:.4f}.hdf5', verbose=0)\n",
    "tensorboard = TensorBoard(log_dir='./logs', histogram_freq=2, batch_size=32, write_grads=False)\n",
    "callbacks_list = [qwkscore, tensorboard, savemodel]\n",
    "\n",
    "print()\n",
    "print('Training model..')\n",
    "history = model.fit(X_train, y_train, batch_size=32, epochs=4, validation_data=(X_cv, y_cv), callbacks=callbacks_list)\n",
    "print('Model trained.')'''"
   ]
  },
  {
   "cell_type": "code",
   "execution_count": 8,
   "metadata": {
    "collapsed": false
   },
   "outputs": [
    {
     "name": "stdout",
     "output_type": "stream",
     "text": [
      "X_test.shape: (3893, 500), y_test.shape: (3893,)\n",
      "32\n"
     ]
    }
   ],
   "source": [
    "from keras.models import load_model\n",
    "filename = \"weight.hdf5\"\n",
    "model = load_model(filename)\n",
    "X_test, y_test = process_data(essays_test)\n",
    "print(\"X_test.shape: {}, y_test.shape: {}\".format(X_test.shape, y_test.shape))\n",
    "tested = model.predict(X_test)\n"
   ]
  },
  {
   "cell_type": "code",
   "execution_count": 11,
   "metadata": {
    "collapsed": false
   },
   "outputs": [
    {
     "name": "stdout",
     "output_type": "stream",
     "text": [
      "[[ 0.45530763]\n",
      " [ 0.64521044]\n",
      " [ 0.53696376]\n",
      " ..., \n",
      " [ 0.17757988]\n",
      " [ 0.33845517]\n",
      " [ 0.59661579]]\n",
      "accuracy is :  58.20703827382482\n"
     ]
    }
   ],
   "source": [
    "#print(tested['domain1_score'])\n",
    "from util import normalise_scores\n",
    "\n",
    "def check_accuracy(calc,actual):\n",
    "        count = 0;#number correctly predicted\n",
    "        error = 0.15\n",
    "        if len(calc) != len(actual) or len(calc)==0:\n",
    "            return -1\n",
    "        for i in range(0,len(calc)):\n",
    "            diff = calc[i]-actual[i]\n",
    "            if(diff < 0):\n",
    "                diff = diff * -1\n",
    "            if(diff <= error):#0.01 is the acceptable error\n",
    "                count = count + 1\n",
    "                \n",
    "        return count/len(calc) * 100\n",
    "    \n",
    "#print(len(tested))\n",
    "#print(tested[200])\n",
    "print(tested)\n",
    "#print(essays_test['domain1_score'])\n",
    "\n",
    "acc = check_accuracy(tested,y_test)\n",
    "print(\"accuracy is : \",acc)"
   ]
  },
  {
   "cell_type": "code",
   "execution_count": 34,
   "metadata": {
    "collapsed": false
   },
   "outputs": [
    {
     "name": "stdout",
     "output_type": "stream",
     "text": [
      "Len  "
     ]
    },
    {
     "name": "stderr",
     "output_type": "stream",
     "text": [
      "C:\\Users\\vrnsr\\Anaconda3\\lib\\site-packages\\ipykernel\\__main__.py:14: SettingWithCopyWarning: \n",
      "A value is trying to be set on a copy of a slice from a DataFrame\n",
      "\n",
      "See the caveats in the documentation: http://pandas.pydata.org/pandas-docs/stable/indexing.html#indexing-view-versus-copy\n",
      "C:\\Users\\vrnsr\\Anaconda3\\lib\\site-packages\\ipykernel\\__main__.py:8: SettingWithCopyWarning: \n",
      "A value is trying to be set on a copy of a slice from a DataFrame\n",
      "\n",
      "See the caveats in the documentation: http://pandas.pydata.org/pandas-docs/stable/indexing.html#indexing-view-versus-copy\n",
      "C:\\Users\\vrnsr\\Anaconda3\\lib\\site-packages\\ipykernel\\__main__.py:10: SettingWithCopyWarning: \n",
      "A value is trying to be set on a copy of a slice from a DataFrame\n",
      "\n",
      "See the caveats in the documentation: http://pandas.pydata.org/pandas-docs/stable/indexing.html#indexing-view-versus-copy\n"
     ]
    },
    {
     "name": "stdout",
     "output_type": "stream",
     "text": [
      "204\n",
      "Len  24\n",
      "Len  10\n",
      "Len  140\n",
      "Len  66\n",
      "Len  206\n",
      "Len  8\n",
      "Len  8\n",
      "32\n",
      "Normalized essay scores : \n",
      "[[ 0.35254934]\n",
      " [ 0.26311025]\n",
      " [ 0.08409806]\n",
      " [ 0.65036577]\n",
      " [ 0.26545137]\n",
      " [ 0.6803391 ]\n",
      " [ 0.06363408]\n",
      " [ 0.1293222 ]]\n",
      "   essay_id                                              essay  domain1_score  \\\n",
      "0         1  Dear local newspaper I raed ur argument on the...              0   \n",
      "1         2  Dear local newspaper, I read your article on t...              0   \n",
      "2         3    the ball is round is bad is colorful is bright.              0   \n",
      "3         4  Essays are commonly used as literary criticism...              0   \n",
      "4         5  The setting affects the cyclist in alot of way...              0   \n",
      "5         6  A visit to a historical place is always an exc...              0   \n",
      "6         7  do not trouble trouble until trouble troubles you              0   \n",
      "7         8            fish fish fish fish fish fish fish fish              0   \n",
      "\n",
      "   essay_set  \n",
      "0          4  \n",
      "1          1  \n",
      "2          1  \n",
      "3          2  \n",
      "4          1  \n",
      "5          4  \n",
      "6          1  \n",
      "7          1  \n"
     ]
    }
   ],
   "source": [
    "import pandas as pd\n",
    "def score_essay():\n",
    "    essays_test = pd.read_csv(\"book1.csv\",encoding=\"utf-8\")\n",
    "    for x in range(0,len(essays_test)):\n",
    "        length = len(essays_test['essay'][x].split())\n",
    "        print(\"Len \",length)\n",
    "        if(length <= 100):\n",
    "            essays_test['essay_set'][x]=1\n",
    "        elif(length <= 150):\n",
    "            essays_test['essay_set'][x]=2\n",
    "        elif(length <= 200):\n",
    "            essays_test['essay_set'][x]=3\n",
    "        elif(length <= 250):\n",
    "            essays_test['essay_set'][x]=4\n",
    "        elif(length <= 300):\n",
    "            essays_test['essay_set'][x]=5\n",
    "        elif(length <= 350):\n",
    "            essays_test['essay_set'][x]=6\n",
    "        elif(length <= 400):\n",
    "            essays_test['essay_set'][x]=7\n",
    "        elif(length <= 500):\n",
    "            essays_test['essay_set'][x]=8\n",
    "    #print(essays_test)\n",
    "    X_test, y_test = process_data(essays_test)\n",
    "    tested = model.predict(X_test)\n",
    "    print(\"Normalized essay scores : \")\n",
    "    print(tested)\n",
    "    print(essays_test)\n",
    "score_essay()\n",
    "\n"
   ]
  }
 ],
 "metadata": {
  "kernelspec": {
   "display_name": "Python 3",
   "language": "python",
   "name": "python3"
  },
  "language_info": {
   "codemirror_mode": {
    "name": "ipython",
    "version": 3
   },
   "file_extension": ".py",
   "mimetype": "text/x-python",
   "name": "python",
   "nbconvert_exporter": "python",
   "pygments_lexer": "ipython3",
   "version": "3.6.0"
  }
 },
 "nbformat": 4,
 "nbformat_minor": 2
}
